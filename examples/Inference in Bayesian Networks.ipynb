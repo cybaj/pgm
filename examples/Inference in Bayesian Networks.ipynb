{
 "cells": [
  {
   "cell_type": "markdown",
   "metadata": {},
   "source": [
    "We will be using the Asia network (http://www.bnlearn.com/bnrepository/#asia) and do some inference queries."
   ]
  },
  {
   "cell_type": "code",
   "execution_count": 5,
   "metadata": {},
   "outputs": [],
   "source": [
    "import wget"
   ]
  },
  {
   "cell_type": "code",
   "execution_count": 7,
   "metadata": {},
   "outputs": [],
   "source": [
    "import gzip"
   ]
  },
  {
   "cell_type": "code",
   "execution_count": 8,
   "metadata": {},
   "outputs": [],
   "source": [
    "# Fetching the network\n",
    "f = wget.download('http://www.bnlearn.com/bnrepository/asia/asia.bif.gz')\n",
    "with gzip.open('asia.bif.gz', mode='rb') as f:\n",
    "    file_content=f.read()\n",
    "with open('asia.bif', mode='wb') as f:\n",
    "    f.write(file_content)"
   ]
  },
  {
   "cell_type": "code",
   "execution_count": 9,
   "metadata": {},
   "outputs": [],
   "source": [
    "from pgmpy.readwrite import BIFReader\n",
    "reader = BIFReader('asia.bif')\n",
    "!rm asia.bif\n",
    "asia_model = reader.get_model()"
   ]
  },
  {
   "cell_type": "code",
   "execution_count": 10,
   "metadata": {},
   "outputs": [
    {
     "data": {
      "text/plain": [
       "NodeView(('asia', 'tub', 'smoke', 'lung', 'bronc', 'either', 'xray', 'dysp'))"
      ]
     },
     "execution_count": 10,
     "metadata": {},
     "output_type": "execute_result"
    }
   ],
   "source": [
    "asia_model.nodes()"
   ]
  },
  {
   "cell_type": "code",
   "execution_count": 11,
   "metadata": {},
   "outputs": [
    {
     "data": {
      "text/plain": [
       "OutEdgeView([('asia', 'tub'), ('tub', 'either'), ('smoke', 'lung'), ('smoke', 'bronc'), ('lung', 'either'), ('bronc', 'dysp'), ('either', 'xray'), ('either', 'dysp')])"
      ]
     },
     "execution_count": 11,
     "metadata": {},
     "output_type": "execute_result"
    }
   ],
   "source": [
    "asia_model.edges()"
   ]
  },
  {
   "cell_type": "code",
   "execution_count": 12,
   "metadata": {},
   "outputs": [
    {
     "data": {
      "text/plain": [
       "[<TabularCPD representing P(asia:2) at 0x7fd0c0d945f8>,\n",
       " <TabularCPD representing P(bronc:2 | smoke:2) at 0x7fd0afa11c88>,\n",
       " <TabularCPD representing P(dysp:2 | bronc:2, either:2) at 0x7fd0afa11be0>,\n",
       " <TabularCPD representing P(either:2 | lung:2, tub:2) at 0x7fd0afa11c50>,\n",
       " <TabularCPD representing P(lung:2 | smoke:2) at 0x7fd0afa14fd0>,\n",
       " <TabularCPD representing P(smoke:2) at 0x7fd0afa14710>,\n",
       " <TabularCPD representing P(tub:2 | asia:2) at 0x7fd0afa14668>,\n",
       " <TabularCPD representing P(xray:2 | either:2) at 0x7fd0afa14748>]"
      ]
     },
     "execution_count": 12,
     "metadata": {},
     "output_type": "execute_result"
    }
   ],
   "source": [
    "asia_model.get_cpds()"
   ]
  },
  {
   "cell_type": "code",
   "execution_count": 16,
   "metadata": {},
   "outputs": [
    {
     "name": "stdout",
     "output_type": "stream",
     "text": [
      "Help on method query in module pgmpy.inference.ExactInference:\n",
      "\n",
      "query(variables, evidence=None, elimination_order='MinFill', joint=True, show_progress=True) method of pgmpy.inference.ExactInference.VariableElimination instance\n",
      "    Parameters\n",
      "    ----------\n",
      "    variables: list\n",
      "        list of variables for which you want to compute the probability\n",
      "    \n",
      "    evidence: dict\n",
      "        a dict key, value pair as {var: state_of_var_observed}\n",
      "        None if no evidence\n",
      "    \n",
      "    elimination_order: list\n",
      "        order of variable eliminations (if nothing is provided) order is\n",
      "        computed automatically\n",
      "    \n",
      "    joint: boolean (default: True)\n",
      "        If True, returns a Joint Distribution over `variables`.\n",
      "        If False, returns a dict of distributions over each of the `variables`.\n",
      "    \n",
      "    Examples\n",
      "    --------\n",
      "    >>> from pgmpy.inference import VariableElimination\n",
      "    >>> from pgmpy.models import BayesianModel\n",
      "    >>> import numpy as np\n",
      "    >>> import pandas as pd\n",
      "    >>> values = pd.DataFrame(np.random.randint(low=0, high=2, size=(1000, 5)),\n",
      "    ...                       columns=['A', 'B', 'C', 'D', 'E'])\n",
      "    >>> model = BayesianModel([('A', 'B'), ('C', 'B'), ('C', 'D'), ('B', 'E')])\n",
      "    >>> model.fit(values)\n",
      "    >>> inference = VariableElimination(model)\n",
      "    >>> phi_query = inference.query(['A', 'B'])\n",
      "\n"
     ]
    }
   ],
   "source": [
    "help(asia_infer.query)"
   ]
  },
  {
   "cell_type": "code",
   "execution_count": 15,
   "metadata": {},
   "outputs": [
    {
     "name": "stderr",
     "output_type": "stream",
     "text": [
      "Finding Elimination Order: : 100%|██████████| 7/7 [00:00<00:00, 3983.19it/s]\n",
      "Eliminating: asia: 100%|██████████| 7/7 [00:00<00:00, 488.50it/s]"
     ]
    },
    {
     "name": "stdout",
     "output_type": "stream",
     "text": [
      "+------------+--------------+\n",
      "| bronc      |   phi(bronc) |\n",
      "+============+==============+\n",
      "| bronc(yes) |       0.4500 |\n",
      "+------------+--------------+\n",
      "| bronc(no)  |       0.5500 |\n",
      "+------------+--------------+\n"
     ]
    },
    {
     "name": "stderr",
     "output_type": "stream",
     "text": [
      "\n"
     ]
    }
   ],
   "source": [
    "# Doing exact inference using Variable Elimination\n",
    "from pgmpy.inference import VariableElimination\n",
    "asia_infer = VariableElimination(asia_model)\n",
    "\n",
    "# Computing the probability of bronc given smoke.\n",
    "q = asia_infer.query(variables=['bronc'])\n",
    "print(q)"
   ]
  },
  {
   "cell_type": "code",
   "execution_count": 26,
   "metadata": {},
   "outputs": [
    {
     "name": "stderr",
     "output_type": "stream",
     "text": [
      "Finding Elimination Order: : 100%|██████████| 7/7 [00:00<00:00, 3698.21it/s]\n",
      "Eliminating: asia: 100%|██████████| 7/7 [00:00<00:00, 700.64it/s]"
     ]
    },
    {
     "name": "stdout",
     "output_type": "stream",
     "text": [
      "+------------+--------------+\n",
      "| smoke      |   phi(smoke) |\n",
      "+============+==============+\n",
      "| smoke(yes) |       0.5000 |\n",
      "+------------+--------------+\n",
      "| smoke(no)  |       0.5000 |\n",
      "+------------+--------------+\n"
     ]
    },
    {
     "name": "stderr",
     "output_type": "stream",
     "text": [
      "\n"
     ]
    }
   ],
   "source": [
    "q = asia_infer.query(variables=['smoke'])\n",
    "print(q)"
   ]
  },
  {
   "cell_type": "code",
   "execution_count": 27,
   "metadata": {},
   "outputs": [
    {
     "name": "stderr",
     "output_type": "stream",
     "text": [
      "Finding Elimination Order: : 100%|██████████| 6/6 [00:00<00:00, 3533.04it/s]\n",
      "Eliminating: asia: 100%|██████████| 6/6 [00:00<00:00, 675.47it/s]"
     ]
    },
    {
     "name": "stdout",
     "output_type": "stream",
     "text": [
      "+------------+--------------+\n",
      "| bronc      |   phi(bronc) |\n",
      "+============+==============+\n",
      "| bronc(yes) |       0.6000 |\n",
      "+------------+--------------+\n",
      "| bronc(no)  |       0.4000 |\n",
      "+------------+--------------+\n"
     ]
    },
    {
     "name": "stderr",
     "output_type": "stream",
     "text": [
      "\n"
     ]
    }
   ],
   "source": [
    "q = asia_infer.query(variables=['bronc'], evidence={'smoke': 'yes'})\n",
    "print(q)"
   ]
  },
  {
   "cell_type": "code",
   "execution_count": null,
   "metadata": {},
   "outputs": [],
   "source": []
  }
 ],
 "metadata": {
  "anaconda-cloud": {},
  "kernelspec": {
   "display_name": "Python 3",
   "language": "python",
   "name": "python3"
  },
  "language_info": {
   "codemirror_mode": {
    "name": "ipython",
    "version": 3
   },
   "file_extension": ".py",
   "mimetype": "text/x-python",
   "name": "python",
   "nbconvert_exporter": "python",
   "pygments_lexer": "ipython3",
   "version": "3.7.1"
  }
 },
 "nbformat": 4,
 "nbformat_minor": 1
}
